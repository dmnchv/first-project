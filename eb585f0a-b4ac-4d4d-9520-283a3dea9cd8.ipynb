{
 "cells": [
  {
   "cell_type": "markdown",
   "metadata": {},
   "source": [
    "Привет, меня зовут Артем. Сегодня я проверю твой проект.\n",
    "<br> Дальнейшее общение будет происходить на \"ты\" если это не вызывает никаких проблем.\n",
    "<br> Желательно реагировать на каждый мой комментарий ('исправил', 'не понятно как исправить ошибку', ...)\n",
    "<br> Пожалуйста, не удаляй комментарии ревьюера, так как они повышают качество повторного ревью.\n",
    "\n",
    "Комментарии будут в <font color='green'>зеленой</font>, <font color='blue'>синей</font> или <font color='red'>красной</font> рамках:\n",
    "\n",
    "<div class=\"alert alert-block alert-success\">\n",
    "<b>Успех:</b> Если все сделано отлично\n",
    "</div>\n",
    "\n",
    "<div class=\"alert alert-block alert-info\">\n",
    "<b>Совет: </b> Если можно немного улучшить\n",
    "</div>\n",
    "\n",
    "<div class=\"alert alert-block alert-danger\">\n",
    "<b>Ошибка:</b> Если требуются исправления. Работа не может быть принята с красными комментариями.\n",
    "</div>\n",
    "\n",
    "-------------------\n",
    "\n",
    "Будет очень хорошо, если ты будешь помечать свои действия следующим образом:\n",
    "<div class=\"alert alert-block alert-warning\">\n",
    "<b>Комментарий студента:</b> ...\n",
    "</div>\n",
    "\n",
    "<div class=\"alert alert-block alert-warning\">\n",
    "<b>Изменения:</b> Были внесены следующие изменения ...\n",
    "</div>\n",
    "\n",
    "### <font color='orange'>Общее впечатление</font>\n",
    "* Большое спасибо за проделанную работу. Видно, что приложено много усилий.\n",
    "* Выводы и рассуждения получились содержательными, их было интересно читать.\n",
    "* Радует, что тебе удалось разобраться с техникой бутстрапа.\n",
    "* Отлично, что риск убытков посчитан верно.\n",
    "* Над этим проектом нужно будет еще немного поработать. Однако, изменения не должны занять много времени.\n",
    "* С радостью отвечу на твои вопросы, если они есть. Лучше всего их собрать в следующей ячейке. Жду новую версию проекта."
   ]
  },
  {
   "cell_type": "markdown",
   "metadata": {},
   "source": [
    "<div class=\"alert alert-block alert-warning\">\n",
    "<b>Комментарий студента:</b> Привет, Артем, большое спасибо за проверку проекта! Буду следовать инструкции и постараюсь исправить все ошибки.\n",
    "</div>"
   ]
  },
  {
   "cell_type": "markdown",
   "metadata": {},
   "source": [
    "# Выбор локации для скважины"
   ]
  },
  {
   "cell_type": "markdown",
   "metadata": {},
   "source": [
    "Допустим, вы работаете в добывающей компании «ГлавРосГосНефть». Нужно решить, где бурить новую скважину.\n",
    "\n",
    "Вам предоставлены пробы нефти в трёх регионах: в каждом 10 000 месторождений, где измерили качество нефти и объём её запасов. Постройте модель машинного обучения, которая поможет определить регион, где добыча принесёт наибольшую прибыль. Проанализируйте возможную прибыль и риски техникой *Bootstrap.*\n",
    "\n",
    "Шаги для выбора локации:\n",
    "\n",
    "- В избранном регионе ищут месторождения, для каждого определяют значения признаков;\n",
    "- Строят модель и оценивают объём запасов;\n",
    "- Выбирают месторождения с самым высокими оценками значений. Количество месторождений зависит от бюджета компании и стоимости разработки одной скважины;\n",
    "- Прибыль равна суммарной прибыли отобранных месторождений."
   ]
  },
  {
   "cell_type": "markdown",
   "metadata": {},
   "source": [
    "Загружаем библиотеки необходимые для работы."
   ]
  },
  {
   "cell_type": "code",
   "execution_count": 1,
   "metadata": {},
   "outputs": [],
   "source": [
    "import pandas as pd\n",
    "import numpy as np\n",
    "\n",
    "# импорт библиотек для работы с моделью\n",
    "# подготовка модели\n",
    "from sklearn.model_selection import train_test_split \n",
    "\n",
    "# модели\n",
    "from sklearn.linear_model import LinearRegression \n",
    "\n",
    "# оценка модели\n",
    "from sklearn.metrics import mean_squared_error "
   ]
  },
  {
   "cell_type": "markdown",
   "metadata": {},
   "source": [
    "<div class=\"alert alert-block alert-success\">\n",
    "<b>Успех:</b> Отлично, что все импорты собраны в первой ячейке ноутбука! Если у того, кто будет запускать твой ноутбук будут отсутствовать некоторые библиотеки, то он это увидит сразу, а не в процессе!\n",
    "</div>"
   ]
  },
  {
   "cell_type": "markdown",
   "metadata": {},
   "source": [
    "## Загрузка, предобработка и подготовка данных"
   ]
  },
  {
   "cell_type": "markdown",
   "metadata": {},
   "source": [
    "### Загружаем данные"
   ]
  },
  {
   "cell_type": "code",
   "execution_count": 2,
   "metadata": {},
   "outputs": [],
   "source": [
    "try:\n",
    "    geo_data_0 = pd.read_csv('/Users/dima/Desktop/python_ya/Project 8/geo_data_0.csv', sep=',', decimal='.') # путь к файлу на компьютере, для работы оффлайн    \n",
    "except:\n",
    "    geo_data_0 = pd.read_csv('https://code.s3.yandex.net/datasets/geo_data_0.csv', sep=',', decimal='.') # если путь к файлу на компьютере не доступен, работа с файлом ведется с сайта яндекса\n",
    "try:\n",
    "    geo_data_1 = pd.read_csv('/Users/dima/Desktop/python_ya/Project 8/geo_data_1.csv', sep=',', decimal='.')    \n",
    "except:\n",
    "    geo_data_1 = pd.read_csv('https://code.s3.yandex.net/datasets/geo_data_1.csv', sep=',', decimal='.')\n",
    "try:\n",
    "    geo_data_2 = pd.read_csv('/Users/dima/Desktop/python_ya/Project 8/geo_data_2.csv', sep=',', decimal='.')\n",
    "except:\n",
    "    geo_data_2 = pd.read_csv('https://code.s3.yandex.net/datasets/geo_data_2.csv', sep=',', decimal='.')\n"
   ]
  },
  {
   "cell_type": "markdown",
   "metadata": {},
   "source": [
    "geo_data_0 данные из Региона 0  \n",
    "geo_data_1 данные из Региона 1  \n",
    "geo_data_2 данные из Региона 2"
   ]
  },
  {
   "cell_type": "markdown",
   "metadata": {},
   "source": [
    "### Изучим данные"
   ]
  },
  {
   "cell_type": "code",
   "execution_count": 3,
   "metadata": {},
   "outputs": [
    {
     "name": "stdout",
     "output_type": "stream",
     "text": [
      "<class 'pandas.core.frame.DataFrame'>\n",
      "RangeIndex: 100000 entries, 0 to 99999\n",
      "Data columns (total 5 columns):\n",
      " #   Column   Non-Null Count   Dtype  \n",
      "---  ------   --------------   -----  \n",
      " 0   id       100000 non-null  object \n",
      " 1   f0       100000 non-null  float64\n",
      " 2   f1       100000 non-null  float64\n",
      " 3   f2       100000 non-null  float64\n",
      " 4   product  100000 non-null  float64\n",
      "dtypes: float64(4), object(1)\n",
      "memory usage: 3.8+ MB\n"
     ]
    }
   ],
   "source": [
    "geo_data_0.info()"
   ]
  },
  {
   "cell_type": "markdown",
   "metadata": {},
   "source": [
    "В первом регионе 10 тыс скважин. В данных нулевых значений нет, типы данных соответствуют условиям задачи."
   ]
  },
  {
   "cell_type": "code",
   "execution_count": 4,
   "metadata": {},
   "outputs": [
    {
     "name": "stdout",
     "output_type": "stream",
     "text": [
      "<class 'pandas.core.frame.DataFrame'>\n",
      "RangeIndex: 100000 entries, 0 to 99999\n",
      "Data columns (total 5 columns):\n",
      " #   Column   Non-Null Count   Dtype  \n",
      "---  ------   --------------   -----  \n",
      " 0   id       100000 non-null  object \n",
      " 1   f0       100000 non-null  float64\n",
      " 2   f1       100000 non-null  float64\n",
      " 3   f2       100000 non-null  float64\n",
      " 4   product  100000 non-null  float64\n",
      "dtypes: float64(4), object(1)\n",
      "memory usage: 3.8+ MB\n"
     ]
    }
   ],
   "source": [
    "geo_data_1.info()"
   ]
  },
  {
   "cell_type": "markdown",
   "metadata": {},
   "source": [
    "Во втором регионе 10 тыс скважин. В данных нулевых значений нет, типы данных соответствуют условиям задачи."
   ]
  },
  {
   "cell_type": "code",
   "execution_count": 5,
   "metadata": {},
   "outputs": [
    {
     "name": "stdout",
     "output_type": "stream",
     "text": [
      "<class 'pandas.core.frame.DataFrame'>\n",
      "RangeIndex: 100000 entries, 0 to 99999\n",
      "Data columns (total 5 columns):\n",
      " #   Column   Non-Null Count   Dtype  \n",
      "---  ------   --------------   -----  \n",
      " 0   id       100000 non-null  object \n",
      " 1   f0       100000 non-null  float64\n",
      " 2   f1       100000 non-null  float64\n",
      " 3   f2       100000 non-null  float64\n",
      " 4   product  100000 non-null  float64\n",
      "dtypes: float64(4), object(1)\n",
      "memory usage: 3.8+ MB\n"
     ]
    }
   ],
   "source": [
    "geo_data_2.info()"
   ]
  },
  {
   "cell_type": "markdown",
   "metadata": {},
   "source": [
    "Во третьем регионе 10 тыс скважин. В данных нулевых значений нет, типы данных соответствуют условиям задачи."
   ]
  },
  {
   "cell_type": "markdown",
   "metadata": {},
   "source": [
    "**<span style='color: green;'>Вывод:  \n",
    "пропуски в данных не обнаружены, типы данных корректные.</span>**"
   ]
  },
  {
   "cell_type": "markdown",
   "metadata": {},
   "source": [
    "### Проверим данные на дубликаты"
   ]
  },
  {
   "cell_type": "code",
   "execution_count": 6,
   "metadata": {},
   "outputs": [
    {
     "data": {
      "text/plain": [
       "0"
      ]
     },
     "execution_count": 6,
     "metadata": {},
     "output_type": "execute_result"
    }
   ],
   "source": [
    "geo_data_0.duplicated().sum()"
   ]
  },
  {
   "cell_type": "code",
   "execution_count": 7,
   "metadata": {},
   "outputs": [
    {
     "data": {
      "text/plain": [
       "0"
      ]
     },
     "execution_count": 7,
     "metadata": {},
     "output_type": "execute_result"
    }
   ],
   "source": [
    "geo_data_1.duplicated().sum()"
   ]
  },
  {
   "cell_type": "code",
   "execution_count": 8,
   "metadata": {},
   "outputs": [
    {
     "data": {
      "text/plain": [
       "0"
      ]
     },
     "execution_count": 8,
     "metadata": {},
     "output_type": "execute_result"
    }
   ],
   "source": [
    "geo_data_2.duplicated().sum()"
   ]
  },
  {
   "cell_type": "markdown",
   "metadata": {},
   "source": [
    "**<span style='color: green;'>Вывод:  \n",
    "явные дубликаты в данных не обнаружены.</span>**"
   ]
  },
  {
   "cell_type": "markdown",
   "metadata": {},
   "source": [
    "### Подготовка данных для обучения"
   ]
  },
  {
   "cell_type": "markdown",
   "metadata": {},
   "source": [
    "На первом этапе сделаем индексами в таблицах столбец id. Отсортируем таблицы по id."
   ]
  },
  {
   "cell_type": "code",
   "execution_count": 9,
   "metadata": {},
   "outputs": [],
   "source": [
    "geo_data_0.set_index('id', inplace=True)\n",
    "geo_data_0.sort_index(inplace=True)"
   ]
  },
  {
   "cell_type": "code",
   "execution_count": 10,
   "metadata": {},
   "outputs": [],
   "source": [
    "geo_data_1.set_index('id', inplace=True)\n",
    "geo_data_1.sort_index(inplace=True)"
   ]
  },
  {
   "cell_type": "code",
   "execution_count": 11,
   "metadata": {},
   "outputs": [],
   "source": [
    "geo_data_2.set_index('id', inplace=True)\n",
    "geo_data_2.sort_index(inplace=True)"
   ]
  },
  {
   "cell_type": "code",
   "execution_count": 12,
   "metadata": {},
   "outputs": [
    {
     "data": {
      "text/html": [
       "<div>\n",
       "<style scoped>\n",
       "    .dataframe tbody tr th:only-of-type {\n",
       "        vertical-align: middle;\n",
       "    }\n",
       "\n",
       "    .dataframe tbody tr th {\n",
       "        vertical-align: top;\n",
       "    }\n",
       "\n",
       "    .dataframe thead th {\n",
       "        text-align: right;\n",
       "    }\n",
       "</style>\n",
       "<table border=\"1\" class=\"dataframe\">\n",
       "  <thead>\n",
       "    <tr style=\"text-align: right;\">\n",
       "      <th></th>\n",
       "      <th>f0</th>\n",
       "      <th>f1</th>\n",
       "      <th>f2</th>\n",
       "      <th>product</th>\n",
       "    </tr>\n",
       "    <tr>\n",
       "      <th>id</th>\n",
       "      <th></th>\n",
       "      <th></th>\n",
       "      <th></th>\n",
       "      <th></th>\n",
       "    </tr>\n",
       "  </thead>\n",
       "  <tbody>\n",
       "    <tr>\n",
       "      <th>006OJ</th>\n",
       "      <td>1.289189</td>\n",
       "      <td>-0.623324</td>\n",
       "      <td>3.642039</td>\n",
       "      <td>142.822141</td>\n",
       "    </tr>\n",
       "    <tr>\n",
       "      <th>009eY</th>\n",
       "      <td>1.958091</td>\n",
       "      <td>0.268711</td>\n",
       "      <td>3.702938</td>\n",
       "      <td>112.036815</td>\n",
       "    </tr>\n",
       "    <tr>\n",
       "      <th>00AfQ</th>\n",
       "      <td>0.558807</td>\n",
       "      <td>-0.366895</td>\n",
       "      <td>-1.268154</td>\n",
       "      <td>49.659570</td>\n",
       "    </tr>\n",
       "    <tr>\n",
       "      <th>00AuZ</th>\n",
       "      <td>-0.968699</td>\n",
       "      <td>0.416057</td>\n",
       "      <td>3.553416</td>\n",
       "      <td>73.351787</td>\n",
       "    </tr>\n",
       "    <tr>\n",
       "      <th>00BTM</th>\n",
       "      <td>-0.908137</td>\n",
       "      <td>0.036964</td>\n",
       "      <td>1.053951</td>\n",
       "      <td>38.664619</td>\n",
       "    </tr>\n",
       "  </tbody>\n",
       "</table>\n",
       "</div>"
      ],
      "text/plain": [
       "             f0        f1        f2     product\n",
       "id                                             \n",
       "006OJ  1.289189 -0.623324  3.642039  142.822141\n",
       "009eY  1.958091  0.268711  3.702938  112.036815\n",
       "00AfQ  0.558807 -0.366895 -1.268154   49.659570\n",
       "00AuZ -0.968699  0.416057  3.553416   73.351787\n",
       "00BTM -0.908137  0.036964  1.053951   38.664619"
      ]
     },
     "execution_count": 12,
     "metadata": {},
     "output_type": "execute_result"
    }
   ],
   "source": [
    "geo_data_0.head() #проверка"
   ]
  },
  {
   "cell_type": "code",
   "execution_count": 13,
   "metadata": {},
   "outputs": [
    {
     "data": {
      "text/html": [
       "<div>\n",
       "<style scoped>\n",
       "    .dataframe tbody tr th:only-of-type {\n",
       "        vertical-align: middle;\n",
       "    }\n",
       "\n",
       "    .dataframe tbody tr th {\n",
       "        vertical-align: top;\n",
       "    }\n",
       "\n",
       "    .dataframe thead th {\n",
       "        text-align: right;\n",
       "    }\n",
       "</style>\n",
       "<table border=\"1\" class=\"dataframe\">\n",
       "  <thead>\n",
       "    <tr style=\"text-align: right;\">\n",
       "      <th></th>\n",
       "      <th>f0</th>\n",
       "      <th>f1</th>\n",
       "      <th>f2</th>\n",
       "      <th>product</th>\n",
       "    </tr>\n",
       "    <tr>\n",
       "      <th>id</th>\n",
       "      <th></th>\n",
       "      <th></th>\n",
       "      <th></th>\n",
       "      <th></th>\n",
       "    </tr>\n",
       "  </thead>\n",
       "  <tbody>\n",
       "    <tr>\n",
       "      <th>0022J</th>\n",
       "      <td>-1.757135</td>\n",
       "      <td>-8.432343</td>\n",
       "      <td>1.999313</td>\n",
       "      <td>53.906522</td>\n",
       "    </tr>\n",
       "    <tr>\n",
       "      <th>003Gl</th>\n",
       "      <td>2.862304</td>\n",
       "      <td>-2.622592</td>\n",
       "      <td>1.999858</td>\n",
       "      <td>57.085625</td>\n",
       "    </tr>\n",
       "    <tr>\n",
       "      <th>003Vx</th>\n",
       "      <td>3.480454</td>\n",
       "      <td>-16.404208</td>\n",
       "      <td>3.000960</td>\n",
       "      <td>80.859783</td>\n",
       "    </tr>\n",
       "    <tr>\n",
       "      <th>004LG</th>\n",
       "      <td>5.632612</td>\n",
       "      <td>5.149203</td>\n",
       "      <td>3.004665</td>\n",
       "      <td>80.859783</td>\n",
       "    </tr>\n",
       "    <tr>\n",
       "      <th>006oG</th>\n",
       "      <td>-4.954731</td>\n",
       "      <td>-11.776300</td>\n",
       "      <td>5.001760</td>\n",
       "      <td>137.945408</td>\n",
       "    </tr>\n",
       "  </tbody>\n",
       "</table>\n",
       "</div>"
      ],
      "text/plain": [
       "             f0         f1        f2     product\n",
       "id                                              \n",
       "0022J -1.757135  -8.432343  1.999313   53.906522\n",
       "003Gl  2.862304  -2.622592  1.999858   57.085625\n",
       "003Vx  3.480454 -16.404208  3.000960   80.859783\n",
       "004LG  5.632612   5.149203  3.004665   80.859783\n",
       "006oG -4.954731 -11.776300  5.001760  137.945408"
      ]
     },
     "execution_count": 13,
     "metadata": {},
     "output_type": "execute_result"
    }
   ],
   "source": [
    "geo_data_1.head() #проверка"
   ]
  },
  {
   "cell_type": "code",
   "execution_count": 14,
   "metadata": {},
   "outputs": [
    {
     "data": {
      "text/html": [
       "<div>\n",
       "<style scoped>\n",
       "    .dataframe tbody tr th:only-of-type {\n",
       "        vertical-align: middle;\n",
       "    }\n",
       "\n",
       "    .dataframe tbody tr th {\n",
       "        vertical-align: top;\n",
       "    }\n",
       "\n",
       "    .dataframe thead th {\n",
       "        text-align: right;\n",
       "    }\n",
       "</style>\n",
       "<table border=\"1\" class=\"dataframe\">\n",
       "  <thead>\n",
       "    <tr style=\"text-align: right;\">\n",
       "      <th></th>\n",
       "      <th>f0</th>\n",
       "      <th>f1</th>\n",
       "      <th>f2</th>\n",
       "      <th>product</th>\n",
       "    </tr>\n",
       "    <tr>\n",
       "      <th>id</th>\n",
       "      <th></th>\n",
       "      <th></th>\n",
       "      <th></th>\n",
       "      <th></th>\n",
       "    </tr>\n",
       "  </thead>\n",
       "  <tbody>\n",
       "    <tr>\n",
       "      <th>009Gl</th>\n",
       "      <td>0.557780</td>\n",
       "      <td>-1.771009</td>\n",
       "      <td>4.646146</td>\n",
       "      <td>130.621072</td>\n",
       "    </tr>\n",
       "    <tr>\n",
       "      <th>00AuD</th>\n",
       "      <td>0.896418</td>\n",
       "      <td>0.296979</td>\n",
       "      <td>6.032145</td>\n",
       "      <td>112.891391</td>\n",
       "    </tr>\n",
       "    <tr>\n",
       "      <th>00CaL</th>\n",
       "      <td>-1.022474</td>\n",
       "      <td>-0.744512</td>\n",
       "      <td>4.243409</td>\n",
       "      <td>132.792852</td>\n",
       "    </tr>\n",
       "    <tr>\n",
       "      <th>00Cby</th>\n",
       "      <td>-1.183997</td>\n",
       "      <td>2.327663</td>\n",
       "      <td>2.691216</td>\n",
       "      <td>97.174303</td>\n",
       "    </tr>\n",
       "    <tr>\n",
       "      <th>00NQN</th>\n",
       "      <td>-1.476102</td>\n",
       "      <td>0.455868</td>\n",
       "      <td>2.025839</td>\n",
       "      <td>85.888480</td>\n",
       "    </tr>\n",
       "  </tbody>\n",
       "</table>\n",
       "</div>"
      ],
      "text/plain": [
       "             f0        f1        f2     product\n",
       "id                                             \n",
       "009Gl  0.557780 -1.771009  4.646146  130.621072\n",
       "00AuD  0.896418  0.296979  6.032145  112.891391\n",
       "00CaL -1.022474 -0.744512  4.243409  132.792852\n",
       "00Cby -1.183997  2.327663  2.691216   97.174303\n",
       "00NQN -1.476102  0.455868  2.025839   85.888480"
      ]
     },
     "execution_count": 14,
     "metadata": {},
     "output_type": "execute_result"
    }
   ],
   "source": [
    "geo_data_2.head() #проверка"
   ]
  },
  {
   "cell_type": "markdown",
   "metadata": {},
   "source": [
    "Создадим функцию, которая будет подготавливать данные для обучения модели. Разобьём данные на обучающую и валидационную выборки в соотношении 75:25"
   ]
  },
  {
   "cell_type": "code",
   "execution_count": 15,
   "metadata": {},
   "outputs": [],
   "source": [
    "def prepare_data(data, TEST_SIZE=0.25, RANDOM_STATE=42):\n",
    "    X_train, X_val, y_train, y_val = train_test_split(\n",
    "        data.drop(['product'], axis=1),\n",
    "        data['product'],\n",
    "        test_size = TEST_SIZE,\n",
    "        random_state = RANDOM_STATE,\n",
    "    )\n",
    "    return X_train, X_val, y_train, y_val"
   ]
  },
  {
   "cell_type": "markdown",
   "metadata": {},
   "source": [
    "Подготовим данные из всех трех таблиц."
   ]
  },
  {
   "cell_type": "code",
   "execution_count": 16,
   "metadata": {},
   "outputs": [],
   "source": [
    "X_train_0, X_val_0, y_train_0, y_val_0 = prepare_data(geo_data_0, TEST_SIZE=0.25, RANDOM_STATE=42)\n",
    "X_train_1, X_val_1, y_train_1, y_val_1 = prepare_data(geo_data_1, TEST_SIZE=0.25, RANDOM_STATE=42)\n",
    "X_train_2, X_val_2, y_train_2, y_val_2 = prepare_data(geo_data_2, TEST_SIZE=0.25, RANDOM_STATE=42)"
   ]
  },
  {
   "cell_type": "markdown",
   "metadata": {},
   "source": [
    "<div class=\"alert alert-block alert-success\">\n",
    "<b>Успех:</b> Данные загружены и осмотрены корректно.\n",
    "</div>"
   ]
  },
  {
   "cell_type": "markdown",
   "metadata": {},
   "source": [
    "## Обучение и проверка модели"
   ]
  },
  {
   "cell_type": "markdown",
   "metadata": {},
   "source": [
    "По условию задачи для обучения модели необходимо использовать только линейную регрессию.  \n",
    "Для обучения модели напишем функцию. Предсказание будем делать на валидационной выборке. Дополнительно функция будет рассчитывать средний запас предсказанного сырья и RMSE модели."
   ]
  },
  {
   "cell_type": "code",
   "execution_count": 17,
   "metadata": {},
   "outputs": [],
   "source": [
    "def train_line_model(X_train, X_val, y_train, y_val):\n",
    "    model = LinearRegression()\n",
    "    model.fit(X_train, y_train)\n",
    "    y_pred = model.predict(X_val)\n",
    "    mean_predict = y_pred.mean() # расчет среднего запаса сырья\n",
    "    rmse = np.sqrt(mean_squared_error(y_val, y_pred)) # расчет RMSE\n",
    "    return mean_predict, rmse, y_pred"
   ]
  },
  {
   "cell_type": "markdown",
   "metadata": {},
   "source": [
    "Обучим модель на данных из трех регионов отдельно."
   ]
  },
  {
   "cell_type": "code",
   "execution_count": 18,
   "metadata": {},
   "outputs": [
    {
     "name": "stdout",
     "output_type": "stream",
     "text": [
      "Регион 0: Средний запас предсказанного сырья: 92.34, RMSE модели: 37.75\n",
      "Регион 1: Средний запас предсказанного сырья: 68.70, RMSE модели: 0.89\n",
      "Регион 2: Средний запас предсказанного сырья: 95.01, RMSE модели: 40.08\n"
     ]
    }
   ],
   "source": [
    "mean_pred_0, rmse_0, y_pred_0 = train_line_model(X_train_0, X_val_0, y_train_0, y_val_0 )\n",
    "print(f\"Регион 0: Средний запас предсказанного сырья: {mean_pred_0:.2f}, RMSE модели: {rmse_0:.2f}\")\n",
    "\n",
    "mean_pred_1, rmse_1, y_pred_1 = train_line_model(X_train_1, X_val_1, y_train_1, y_val_1)\n",
    "print(f\"Регион 1: Средний запас предсказанного сырья: {mean_pred_1:.2f}, RMSE модели: {rmse_1:.2f}\")\n",
    "\n",
    "mean_pred_2, rmse_2, y_pred_2 = train_line_model(X_train_2, X_val_2, y_train_2, y_val_2)\n",
    "print(f\"Регион 2: Средний запас предсказанного сырья: {mean_pred_2:.2f}, RMSE модели: {rmse_2:.2f}\")"
   ]
  },
  {
   "cell_type": "markdown",
   "metadata": {},
   "source": [
    "**<span style='color: green;'>Вывод:  \n",
    "Модель предсказывает высокий средний запас сырья для региона 0 и 2, но при этом ошибка модели существенно больше. Для региона 1 модель предсказывает меньший запас сырья, но предсказание намного точнее.</span>**"
   ]
  },
  {
   "cell_type": "markdown",
   "metadata": {},
   "source": [
    "Сохраним полученные предсказанные данные и правильные ответы. Используем только валидационные выборки."
   ]
  },
  {
   "cell_type": "code",
   "execution_count": 19,
   "metadata": {},
   "outputs": [],
   "source": [
    "predict_and_actual_0 = pd.DataFrame({'predicted': y_pred_0, 'actual': y_val_0})\n",
    "predict_and_actual_1 = pd.DataFrame({'predicted': y_pred_1, 'actual': y_val_1})\n",
    "predict_and_actual_2 = pd.DataFrame({'predicted': y_pred_2, 'actual': y_val_2})"
   ]
  },
  {
   "cell_type": "markdown",
   "metadata": {},
   "source": [
    "<div class=\"alert alert-block alert-success\">\n",
    "<b>Успех:</b> Модели обучены корректно. Радует, что ты активно используешь функции. Это помогает избежать дублирования кода, а значит уменьшает вероятность совершить ошибку/опечатку!\n",
    "</div>"
   ]
  },
  {
   "cell_type": "markdown",
   "metadata": {},
   "source": [
    "## Подготовка к расчёту прибыли"
   ]
  },
  {
   "cell_type": "markdown",
   "metadata": {},
   "source": [
    "Определим основные переменные необходимые для расчета прибыли."
   ]
  },
  {
   "cell_type": "code",
   "execution_count": 20,
   "metadata": {},
   "outputs": [],
   "source": [
    "BUDGET=10000000000 # бюджет на разработку скважин\n",
    "INCOME=450000 # доход от с единицы продукта (с тысячи баррелей)\n",
    "TOTAL_WELL=500 # количество исследуемых точек\n",
    "WELL_FOR_DEVELOP=200 # лучшие для разработки "
   ]
  },
  {
   "cell_type": "markdown",
   "metadata": {},
   "source": [
    "Расчет достаточного объема сырья для безубыточной разработки новой скважены.  \n",
    "Для этого выделяемый бюджет на разработку (10 млд) резделим на произведение дохода с одной единицы сырья на количество скважин идущих в разработку."
   ]
  },
  {
   "cell_type": "code",
   "execution_count": 21,
   "metadata": {},
   "outputs": [
    {
     "name": "stdout",
     "output_type": "stream",
     "text": [
      "Безубыточный объём сырья: 111.11 тыс. баррелей\n"
     ]
    }
   ],
   "source": [
    "breakeven = BUDGET / (INCOME * WELL_FOR_DEVELOP)\n",
    "print(f'Безубыточный объём сырья: {breakeven:.2f} тыс. баррелей')"
   ]
  },
  {
   "cell_type": "markdown",
   "metadata": {},
   "source": [
    "**<span style='color: green;'>Вывод:  \n",
    "Безубыточный объем сырья составляет 111.11 тыс баррелей. Все три модели предсказали меньшие значения, чем нужно. Но разброс в предсказании модели 0 и 2 достаточно большой 38 и 40 тыс баррелей соответственно. В значения разброса обоих предсказаний моделей 0 и 2 попадает значение безубыточной разработки. Таким образом, необходимо пересмотреть две модели (по данным 0 и 2), для более точного предсказания. Регион 1 не подходит под заданные условия исходя из предсказаний модели. </span>**"
   ]
  },
  {
   "cell_type": "markdown",
   "metadata": {},
   "source": [
    "<div class=\"alert alert-block alert-info\">\n",
    "\n",
    "<b>Совет: </b> В названиях константных переменных лучше использовать только БОЛЬШИЕ буквы. Это соглашение между программистами: https://pythonworld.ru/osnovy/pep-8-rukovodstvo-po-napisaniyu-koda-na-python.html#id29 .\n",
    "</div>\n",
    "\n",
    "<div class=\"alert alert-block alert-success\">\n",
    "<b>Успех:</b> Точка безубыточности найдена верно, сравнение проведено!\n",
    "</div>"
   ]
  },
  {
   "cell_type": "markdown",
   "metadata": {},
   "source": [
    "<div class=\"alert alert-block alert-warning\">\n",
    "<b>Комментарий студента:</b> Упустил момент про константы, теперь буду знать. Спасибо за ссылку, обязательно изучу!\n",
    "</div>"
   ]
  },
  {
   "cell_type": "markdown",
   "metadata": {},
   "source": [
    "<div class=\"alert alert-block alert-warning\">\n",
    "<b>Изменения:</b> Были внесены следующие изменения: все константы переименовал. Соответственно далее в коде название были изменены.\n",
    "</div>"
   ]
  },
  {
   "cell_type": "markdown",
   "metadata": {},
   "source": [
    "## Расчёт прибыли и рисков "
   ]
  },
  {
   "cell_type": "markdown",
   "metadata": {},
   "source": [
    "### Расчёт прибыли"
   ]
  },
  {
   "cell_type": "markdown",
   "metadata": {},
   "source": [
    "Составим функцию для расчета прибыли по 200 скважинам с максимально предсказанными значениями добычи. Для этого просуммируем объем сырья 200 выбранных скважин (значения из актуальных данных, не предсказанных) и рассчитаем прибыль от полученного объема."
   ]
  },
  {
   "cell_type": "code",
   "execution_count": 22,
   "metadata": {},
   "outputs": [],
   "source": [
    "def calculation_model_profit(data, well_for_develop=WELL_FOR_DEVELOP):\n",
    "    wells = data.sort_values(by='predicted', ascending=False).head(well_for_develop) # отсортируем данные по пердсказанным значениям и выберем первые 200 значений\n",
    "    total_volume = wells['actual'].sum() # общий объем дабычи по выбранным скважинам\n",
    "    profit = (total_volume * INCOME) - BUDGET # расчет прибыли\n",
    "    return profit"
   ]
  },
  {
   "cell_type": "markdown",
   "metadata": {},
   "source": [
    "Рассчитаем прибыль для каждого региона."
   ]
  },
  {
   "cell_type": "code",
   "execution_count": 23,
   "metadata": {},
   "outputs": [
    {
     "name": "stdout",
     "output_type": "stream",
     "text": [
      "Прибыль в регионе 0: 3.34 млрд рублей\n",
      "Прибыль в регионе 1: 2.42 млрд рублей\n",
      "Прибыль в регионе 2: 2.46 млрд рублей\n"
     ]
    }
   ],
   "source": [
    "profit_0 = calculation_model_profit(predict_and_actual_0)\n",
    "profit_1 = calculation_model_profit(predict_and_actual_1)\n",
    "profit_2 = calculation_model_profit(predict_and_actual_2)\n",
    "\n",
    "print(f'Прибыль в регионе 0: {profit_0 / 1e9:.2f} млрд рублей')\n",
    "print(f'Прибыль в регионе 1: {profit_1 / 1e9:.2f} млрд рублей')\n",
    "print(f'Прибыль в регионе 2: {profit_2 / 1e9:.2f} млрд рублей')\n"
   ]
  },
  {
   "cell_type": "markdown",
   "metadata": {},
   "source": [
    "**<span style='color: green;'>Вывод:  \n",
    "Все три региона принесут прибыль при разработке 200 лучших скважин, которые выбрала модель.</span>**"
   ]
  },
  {
   "cell_type": "markdown",
   "metadata": {},
   "source": [
    "### Оценка рисков"
   ]
  },
  {
   "cell_type": "markdown",
   "metadata": {},
   "source": [
    "Применим технику bootstrap со значением выборки 1000 для того, чтобы найти среднее прибыли, 95%-й доверительный интервал и риск убытков."
   ]
  },
  {
   "cell_type": "markdown",
   "metadata": {},
   "source": [
    "#### Регион #0"
   ]
  },
  {
   "cell_type": "code",
   "execution_count": 24,
   "metadata": {},
   "outputs": [
    {
     "name": "stdout",
     "output_type": "stream",
     "text": [
      "Средняя прибыль для региона 0: 0.49 млрд рублей\n",
      "95%-й доверительный интервал для региона 0: от -0.05 до 0.92 млрд рублей\n",
      "Риск убытков для региона 0: 3.70%\n"
     ]
    }
   ],
   "source": [
    "state = np.random.RandomState(12345)\n",
    "profits_0 = [] #список для хранения прибыли\n",
    "for i in range(1000):\n",
    "    # Создаем подвыборки для бутстрепа по 500 элементов \n",
    "    sample_0 = predict_and_actual_0.sample(n=TOTAL_WELL, replace=True, random_state=state)\n",
    "    # Выбираем 200 скважин с max предсказ значением\n",
    "    wells_0 = sample_0.sort_values(by='predicted', ascending=False).head(200)\n",
    "    # Считаем реальны объем для 200 скважин с max предсказ значениями\n",
    "    total_volume_0 = wells_0['actual'].sum()\n",
    "    # Рассчитываем прибыль для этого объема\n",
    "    profit_0 = (total_volume_0 *INCOME) - BUDGET\n",
    "    # Добавляем полученную прибыль в список\n",
    "    profits_0.append(profit_0)\n",
    "# Преобразуем список в серию\n",
    "profits_0 = pd.Series(profits_0)\n",
    "# Средняя прибыль\n",
    "mean_profit_0 = profit_0.mean()\n",
    "# Рассчитаем 2.5 и 97.5 процентили\n",
    "lower_bound_0 = profits_0.quantile(0.025)\n",
    "upper_bound_0 = profits_0.quantile(0.975)\n",
    "# Расчет доли случаев, где прибыль отрицательна (риски)\n",
    "risk_0 = (profits_0 < 0).mean()\n",
    "# Перевод в проценты\n",
    "risk_0_percent = risk_0*100\n",
    "# Вывод результатов\n",
    "print(f'Средняя прибыль для региона 0: {mean_profit_0 / 1e9:.2f} млрд рублей')\n",
    "print(f'95%-й доверительный интервал для региона 0: от {lower_bound_0 / 1e9:.2f} до {upper_bound_0 / 1e9:.2f} млрд рублей')\n",
    "print(f'Риск убытков для региона 0: {risk_0_percent:.2f}%')"
   ]
  },
  {
   "cell_type": "markdown",
   "metadata": {},
   "source": [
    "<div class=\"alert alert-block alert-success\">\n",
    "<b>Успех:</b> Отлично, что для подсчета доверительного интервала использовался именно метод квантилей!\n",
    "</div>\n",
    "\n",
    "<div class=\"alert alert-block alert-success\">\n",
    "<b>Успех:</b> Риск найден очень элегантно.\n",
    "</div>\n",
    "\n",
    "<div class=\"alert alert-block alert-danger\">\n",
    "\n",
    "<b>Ошибка:</b> А почему верхняя граница – это 0.974, а не 0.975?\n",
    "</div>"
   ]
  },
  {
   "cell_type": "markdown",
   "metadata": {},
   "source": [
    "<div class=\"alert alert-block alert-warning\">\n",
    "<b>Комментарий студента:</b> Это была опечатка. А дальше получилось как раз то, о чем ты написал в комментарии, я скопировал код, сохранив эту ошибку. Надо было все-таки не лениться и тоже составить функцию для bootstrap.\n",
    "</div>"
   ]
  },
  {
   "cell_type": "markdown",
   "metadata": {},
   "source": [
    "<div class=\"alert alert-block alert-warning\">\n",
    "<b>Изменения:</b> Были внесены следующие изменения: 0.974 исправлено на 0.975. Для расчета 0.95 % доверительного интервала, нужно взять 0.975 и 0.025 квантили. Изменения внесены в расчеты трех регионов.  \n",
    "В самом конце проекта добавил функцию для расчета bootstrap. Проверил на Регионе 2, вроде работает корректно. \n",
    "</div>"
   ]
  },
  {
   "cell_type": "markdown",
   "metadata": {},
   "source": [
    "#### Регион #1"
   ]
  },
  {
   "cell_type": "code",
   "execution_count": 25,
   "metadata": {},
   "outputs": [
    {
     "name": "stdout",
     "output_type": "stream",
     "text": [
      "Средняя прибыль для региона 1: 0.29 млрд рублей\n",
      "95%-й доверительный интервал для региона 1: от 0.05 до 0.84 млрд рублей\n",
      "Риск убытков для региона 1: 1.50%\n"
     ]
    }
   ],
   "source": [
    "state = np.random.RandomState(12345)\n",
    "profits_1 = [] #список для хранения прибыли\n",
    "for i in range(1000):\n",
    "    # Создаем подвыборки для бутстрепа по 500 элементов \n",
    "    sample_1 = predict_and_actual_1.sample(n=TOTAL_WELL, replace=True, random_state=state)\n",
    "    # Выбираем 200 скважин с max предсказ значением\n",
    "    wells_1 = sample_1.sort_values(by='predicted', ascending=False).head(200)\n",
    "    # Считаем реальны объем для 200 скважин с max предсказ значениями\n",
    "    total_volume_1 = wells_1['actual'].sum()\n",
    "    # Рассчитываем прибыль для этого объема\n",
    "    profit_1 = (total_volume_1 *INCOME) - BUDGET\n",
    "    # Добавляем полученную прибыль в список\n",
    "    profits_1.append(profit_1)\n",
    "# Преобразуем список в серию\n",
    "profits_1 = pd.Series(profits_1)\n",
    "# Средняя прибыль\n",
    "mean_profit_1 = profit_1.mean()\n",
    "# Рассчитаем 2.5 и 97.5 процентили\n",
    "lower_bound_1 = profits_1.quantile(0.025)\n",
    "upper_bound_1 = profits_1.quantile(0.975)\n",
    "# Расчет доли случаев, где прибыль отрицательна (риски)\n",
    "risk_1 = (profits_1 < 0).mean()\n",
    "# Перевод в проценты\n",
    "risk_1_percent = risk_1*100\n",
    "# Вывод результатов\n",
    "print(f'Средняя прибыль для региона 1: {mean_profit_1 / 1e9:.2f} млрд рублей')\n",
    "print(f'95%-й доверительный интервал для региона 1: от {lower_bound_1 / 1e9:.2f} до {upper_bound_1 / 1e9:.2f} млрд рублей')\n",
    "print(f'Риск убытков для региона 1: {risk_1_percent:.2f}%')"
   ]
  },
  {
   "cell_type": "markdown",
   "metadata": {},
   "source": [
    "#### Регион #2"
   ]
  },
  {
   "cell_type": "code",
   "execution_count": 26,
   "metadata": {},
   "outputs": [
    {
     "name": "stdout",
     "output_type": "stream",
     "text": [
      "Средняя прибыль для региона 2: 0.48 млрд рублей\n",
      "95%-й доверительный интервал для региона 2: от -0.14 до 0.88 млрд рублей\n",
      "Риск убытков для региона 2: 7.20%\n"
     ]
    }
   ],
   "source": [
    "state = np.random.RandomState(12345)\n",
    "profits_2 = [] #список для хранения прибыли\n",
    "for i in range(1000):\n",
    "    # Создаем подвыборки для бутстрепа по 500 элементов \n",
    "    sample_2 = predict_and_actual_2.sample(n=TOTAL_WELL, replace=True, random_state=state)\n",
    "    # Выбираем 200 скважин с max предсказ значением\n",
    "    wells_2 = sample_2.sort_values(by='predicted', ascending=False).head(200)\n",
    "    # Считаем реальны объем для 200 скважин с max предсказ значениями\n",
    "    total_volume_2 = wells_2['actual'].sum()\n",
    "    # Рассчитываем прибыль для этого объема\n",
    "    profit_2 = (total_volume_2 *INCOME) - BUDGET\n",
    "    # Добавляем полученную прибыль в список\n",
    "    profits_2.append(profit_2)\n",
    "# Преобразуем список в серию\n",
    "profits_2 = pd.Series(profits_2)\n",
    "# Средняя прибыль\n",
    "mean_profit_2 = profit_2.mean()\n",
    "# Рассчитаем 2.5 и 97.5 процентили\n",
    "lower_bound_2 = profits_2.quantile(0.025)\n",
    "upper_bound_2 = profits_2.quantile(0.975)\n",
    "# Расчет доли случаев, где прибыль отрицательна (риски)\n",
    "risk_2 = (profits_2 < 0).mean()\n",
    "# Перевод в проценты\n",
    "risk_2_percent = risk_2*100\n",
    "\n",
    "# Вывод результатов\n",
    "print(f'Средняя прибыль для региона 2: {mean_profit_2 / 1e9:.2f} млрд рублей')\n",
    "print(f'95%-й доверительный интервал для региона 2: от {lower_bound_2 / 1e9:.2f} до {upper_bound_2 / 1e9:.2f} млрд рублей')\n",
    "print(f'Риск убытков для региона 2: {risk_2_percent:.2f}%')"
   ]
  },
  {
   "cell_type": "markdown",
   "metadata": {},
   "source": [
    "Соберем все результаты в сводную таблицу."
   ]
  },
  {
   "cell_type": "code",
   "execution_count": 27,
   "metadata": {},
   "outputs": [
    {
     "data": {
      "text/html": [
       "<div>\n",
       "<style scoped>\n",
       "    .dataframe tbody tr th:only-of-type {\n",
       "        vertical-align: middle;\n",
       "    }\n",
       "\n",
       "    .dataframe tbody tr th {\n",
       "        vertical-align: top;\n",
       "    }\n",
       "\n",
       "    .dataframe thead th {\n",
       "        text-align: right;\n",
       "    }\n",
       "</style>\n",
       "<table border=\"1\" class=\"dataframe\">\n",
       "  <thead>\n",
       "    <tr style=\"text-align: right;\">\n",
       "      <th></th>\n",
       "      <th>Регион</th>\n",
       "      <th>Средняя прибыль (млрд руб)</th>\n",
       "      <th>Нижняя граница 95% (млрд руб)</th>\n",
       "      <th>Верхняя граница 95% (млрд руб)</th>\n",
       "      <th>Риск убытков (%)</th>\n",
       "    </tr>\n",
       "  </thead>\n",
       "  <tbody>\n",
       "    <tr>\n",
       "      <th>0</th>\n",
       "      <td>Регион 0</td>\n",
       "      <td>0.486727</td>\n",
       "      <td>-0.051565</td>\n",
       "      <td>0.921907</td>\n",
       "      <td>3.7</td>\n",
       "    </tr>\n",
       "    <tr>\n",
       "      <th>1</th>\n",
       "      <td>Регион 1</td>\n",
       "      <td>0.292206</td>\n",
       "      <td>0.048941</td>\n",
       "      <td>0.844541</td>\n",
       "      <td>1.5</td>\n",
       "    </tr>\n",
       "    <tr>\n",
       "      <th>2</th>\n",
       "      <td>Регион 2</td>\n",
       "      <td>0.482384</td>\n",
       "      <td>-0.136951</td>\n",
       "      <td>0.883963</td>\n",
       "      <td>7.2</td>\n",
       "    </tr>\n",
       "  </tbody>\n",
       "</table>\n",
       "</div>"
      ],
      "text/plain": [
       "     Регион  Средняя прибыль (млрд руб)  Нижняя граница 95% (млрд руб)  \\\n",
       "0  Регион 0                    0.486727                      -0.051565   \n",
       "1  Регион 1                    0.292206                       0.048941   \n",
       "2  Регион 2                    0.482384                      -0.136951   \n",
       "\n",
       "   Верхняя граница 95% (млрд руб)  Риск убытков (%)  \n",
       "0                        0.921907               3.7  \n",
       "1                        0.844541               1.5  \n",
       "2                        0.883963               7.2  "
      ]
     },
     "execution_count": 27,
     "metadata": {},
     "output_type": "execute_result"
    }
   ],
   "source": [
    "data = {\n",
    "    'Регион': ['Регион 0', 'Регион 1', 'Регион 2'],\n",
    "    'Средняя прибыль (млрд руб)': [mean_profit_0 / 1e9, mean_profit_1 / 1e9, mean_profit_2 / 1e9],\n",
    "    'Нижняя граница 95% (млрд руб)': [lower_bound_0 / 1e9, lower_bound_1 / 1e9, lower_bound_2 / 1e9],\n",
    "    'Верхняя граница 95% (млрд руб)': [upper_bound_0 / 1e9, upper_bound_1 / 1e9, upper_bound_2 / 1e9],\n",
    "    'Риск убытков (%)': [risk_0_percent, risk_1_percent, risk_2_percent]\n",
    "}\n",
    "summary_table = pd.DataFrame(data)\n",
    "\n",
    "summary_table"
   ]
  },
  {
   "cell_type": "markdown",
   "metadata": {},
   "source": [
    "**<span style='color: green;'>Вывод:  \n",
    "Bootsrap анализ показал, что наименьший риск получить убытки будет при разработке скважин из Региона 1. Но при меньших рисках со скважин данного региона будет меньше средняя прибыль. Но с вероятность 95% данная прибуль будет положительной.   \n",
    "Таким образом, оптимальным регионом для начала разработок будет Регион 1. \n",
    "Вторым можно выбрать Регион 0, но вероятность риска убытка в этом регионе выше заданного по условию.   \n",
    "Регион 2 выбирать не нужно, при той же прибыли, что и в Регионе 0, риск убытков выше.</span>**"
   ]
  },
  {
   "cell_type": "markdown",
   "metadata": {},
   "source": [
    "<div class=\"alert alert-block alert-success\">\n",
    "<b>Успех:</b> С выбором региона согласен.\n",
    "</div>"
   ]
  },
  {
   "cell_type": "markdown",
   "metadata": {},
   "source": [
    "<div class=\"alert alert-block alert-warning\">\n",
    "<b>Комментарий студента:</b> Еще раз большое спасибо за проверку проекта и советы!\n",
    "</div>"
   ]
  },
  {
   "cell_type": "markdown",
   "metadata": {},
   "source": [
    "## Чек-лист готовности проекта"
   ]
  },
  {
   "cell_type": "markdown",
   "metadata": {},
   "source": [
    "Поставьте 'x' в выполненных пунктах. Далее нажмите Shift+Enter."
   ]
  },
  {
   "cell_type": "markdown",
   "metadata": {},
   "source": [
    "- [x]  Jupyter Notebook открыт\n",
    "- [x]  Весь код выполняется без ошибок\n",
    "- [x]  Ячейки с кодом расположены в порядке исполнения\n",
    "- [x]  Выполнен шаг 1: данные подготовлены\n",
    "- [x]  Выполнен шаг 2: модели обучены и проверены\n",
    "    - [x]  Данные корректно разбиты на обучающую и валидационную выборки\n",
    "    - [x]  Модели обучены, предсказания сделаны\n",
    "    - [x]  Предсказания и правильные ответы на валидационной выборке сохранены\n",
    "    - [x]  На экране напечатаны результаты\n",
    "    - [x]  Сделаны выводы\n",
    "- [x]  Выполнен шаг 3: проведена подготовка к расчёту прибыли\n",
    "    - [x]  Для всех ключевых значений созданы константы Python\n",
    "    - [x]  Посчитано минимальное среднее количество продукта в месторождениях региона, достаточное для разработки\n",
    "    - [x]  По предыдущему пункту сделаны выводы\n",
    "    - [x]  Написана функция расчёта прибыли\n",
    "- [x]  Выполнен шаг 4: посчитаны риски и прибыль\n",
    "    - [x]  Проведена процедура *Bootstrap*\n",
    "    - [x]  Все параметры бутстрепа соответствуют условию\n",
    "    - [x]  Найдены все нужные величины\n",
    "    - [x]  Предложен регион для разработки месторождения\n",
    "    - [x]  Выбор региона обоснован"
   ]
  },
  {
   "cell_type": "code",
   "execution_count": 28,
   "metadata": {},
   "outputs": [],
   "source": [
    "def bootstrap_for_well (data_well, n):\n",
    "    state = np.random.RandomState(12345)\n",
    "    profits = [] #список для хранения прибыли\n",
    "    for i in range(1000):\n",
    "        # Создаем подвыборки для бутстрепа по 500 элементов \n",
    "        sample = data_well.sample(n, replace=True, random_state=state)\n",
    "        # Выбираем 200 скважин с max предсказ значением\n",
    "        wells = sample.sort_values(by='predicted', ascending=False).head(200)\n",
    "        # Считаем реальны объем для 200 скважин с max предсказ значениями\n",
    "        total_volume = wells['actual'].sum()\n",
    "        # Рассчитываем прибыль для этого объема\n",
    "        profit = (total_volume *INCOME) - BUDGET\n",
    "        # Добавляем полученную прибыль в список\n",
    "        profits.append(profit)\n",
    "    # Преобразуем список в серию\n",
    "    profits = pd.Series(profits)\n",
    "    # Средняя прибыль\n",
    "    mean_profit = profit.mean()\n",
    "    # Рассчитаем 2.5 и 97.5 процентили\n",
    "    lower_bound = profits.quantile(0.025)\n",
    "    upper_bound = profits.quantile(0.975)\n",
    "    # Расчет доли случаев, где прибыль отрицательна (риски)\n",
    "    risk = (profits < 0).mean()\n",
    "    # Перевод в проценты\n",
    "    risk_percent = risk*100\n",
    "\n",
    "    # Вывод результатов\n",
    "    return mean_profit, lower_bound, upper_bound, risk_percent"
   ]
  },
  {
   "cell_type": "code",
   "execution_count": 29,
   "metadata": {},
   "outputs": [],
   "source": [
    "mean_profit,lower_bound, upper_bound, risk_percent = bootstrap_for_well(predict_and_actual_2, TOTAL_WELL)"
   ]
  },
  {
   "cell_type": "code",
   "execution_count": 30,
   "metadata": {},
   "outputs": [
    {
     "name": "stdout",
     "output_type": "stream",
     "text": [
      "Средняя прибыль для региона 2: 0.48 млрд рублей\n",
      "95%-й доверительный интервал для региона 2: от -0.14 до 0.88 млрд рублей\n",
      "Риск убытков для региона 2: 7.20%\n"
     ]
    }
   ],
   "source": [
    "print(f'Средняя прибыль для региона 2: {mean_profit / 1e9:.2f} млрд рублей')\n",
    "print(f'95%-й доверительный интервал для региона 2: от {lower_bound / 1e9:.2f} до {upper_bound / 1e9:.2f} млрд рублей')\n",
    "print(f'Риск убытков для региона 2: {risk_percent:.2f}%')"
   ]
  },
  {
   "cell_type": "code",
   "execution_count": null,
   "metadata": {},
   "outputs": [],
   "source": []
  }
 ],
 "metadata": {
  "kernelspec": {
   "display_name": "Python 3 (ipykernel)",
   "language": "python",
   "name": "python3"
  },
  "language_info": {
   "codemirror_mode": {
    "name": "ipython",
    "version": 3
   },
   "file_extension": ".py",
   "mimetype": "text/x-python",
   "name": "python",
   "nbconvert_exporter": "python",
   "pygments_lexer": "ipython3",
   "version": "3.9.18"
  },
  "toc": {
   "base_numbering": 1,
   "nav_menu": {},
   "number_sections": true,
   "sideBar": true,
   "skip_h1_title": true,
   "title_cell": "Table of Contents",
   "title_sidebar": "Contents",
   "toc_cell": false,
   "toc_position": {},
   "toc_section_display": true,
   "toc_window_display": false
  }
 },
 "nbformat": 4,
 "nbformat_minor": 4
}
